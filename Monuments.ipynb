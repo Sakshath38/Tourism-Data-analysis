{
 "cells": [
  {
   "cell_type": "code",
   "execution_count": 113,
   "id": "24fb2e33-bb66-444f-b493-c2fc9c5226ac",
   "metadata": {},
   "outputs": [],
   "source": [
    "import pandas as pd\n",
    "import seaborn as sns\n",
    "import matplotlib.pyplot as plt\n",
    "import numpy as np\n",
    "\n",
    "# Set style for better visualizations\n",
    "sns.set_style(\"whitegrid\")"
   ]
  },
  {
   "cell_type": "code",
   "execution_count": 2,
   "id": "043b373c-def6-4921-9a92-286cfbdc2962",
   "metadata": {},
   "outputs": [],
   "source": [
    "#importing 2022 data form the excel file\n",
    "df_monumnets = pd.read_excel(\"Tourism-Statistics-for-year-2022.xlsx\", sheet_name = \"Table 31\")"
   ]
  },
  {
   "cell_type": "code",
   "execution_count": 35,
   "id": "6fc078c0-8f80-4fd1-8f2f-fe1d2a02f103",
   "metadata": {},
   "outputs": [],
   "source": [
    "#helping to remove the initial 2 rows that were random\n",
    "\n",
    "df_clean =  pd.read_excel('Tourism-Statistics-for-year-2022.xlsx', \n",
    "                        sheet_name='Table 31', \n",
    "                        skiprows=2)"
   ]
  },
  {
   "cell_type": "code",
   "execution_count": 36,
   "id": "0607ea7e-092e-49af-8a6c-ed67f3f0b902",
   "metadata": {},
   "outputs": [],
   "source": [
    "#cleaning the last 2 unwated column\n",
    "df_clean = df_clean.drop([\"% Growth 2022-\\n23/2021-22\",\"Unnamed: 7\"], axis = 1)"
   ]
  },
  {
   "cell_type": "code",
   "execution_count": 39,
   "id": "529cf093-76b7-4a6d-aa93-6e3134f887f4",
   "metadata": {},
   "outputs": [],
   "source": [
    "#Restructuring the name of the files \n",
    "df_clean.columns = ['S.No', 'Monument_Name', 'Domestic_2021_22', 'Foreign_2021_22', \n",
    "                   'Domestic_2022_23', 'Foreign_2022_23']"
   ]
  },
  {
   "cell_type": "code",
   "execution_count": 44,
   "id": "1766d588-0837-41ef-86a1-a2f36f749d13",
   "metadata": {},
   "outputs": [],
   "source": [
    "#This will help in clearing the NaN monument entries for the dataframe\n",
    "df_clean.dropna(subset=['Monument_Name'], inplace = True) #its given subset because we only want to remove the files in the Monument column"
   ]
  },
  {
   "cell_type": "code",
   "execution_count": 46,
   "id": "3452d2d8-9ec0-4feb-b6bf-fdcfdb9eb9f8",
   "metadata": {},
   "outputs": [],
   "source": [
    "#removing S.No column as we have index as well\n",
    "df_clean = df_clean.drop(\"S.No\", axis = 1)"
   ]
  },
  {
   "cell_type": "code",
   "execution_count": 52,
   "id": "d6da20fe-b5ce-4f5e-a335-a9a8aa453528",
   "metadata": {},
   "outputs": [],
   "source": [
    "#Reset all the index normaly \n",
    "\n",
    "df_clean = df_clean.reset_index(drop = True)"
   ]
  },
  {
   "cell_type": "code",
   "execution_count": 60,
   "id": "3d1b809d-012e-4e7c-976d-55e8acc2159f",
   "metadata": {},
   "outputs": [],
   "source": [
    "#check for the files that are containing total and grand total as this will give error in in plotting \n",
    "df_clean = df_clean[~df_clean[\"Monument_Name\"].str.strip().str.endswith('Total', na=False)]"
   ]
  },
  {
   "cell_type": "code",
   "execution_count": 62,
   "id": "736c6abd-a29e-43c2-9353-3674b0de683f",
   "metadata": {},
   "outputs": [],
   "source": [
    "#again reset the index\n",
    "\n",
    "df_clean = df_clean.reset_index(drop = True)"
   ]
  },
  {
   "cell_type": "code",
   "execution_count": 98,
   "id": "0183d3fc-082e-4da0-a391-4dc68f4ef5bc",
   "metadata": {},
   "outputs": [],
   "source": [
    "#creating a new column named as total value of the year to clearly get top 20 per year \n",
    "\n",
    "#for 2021 and 2022\n",
    "df_for_2021_22 = df_clean[['Monument_Name','Domestic_2021_22', 'Foreign_2021_22']].copy()\n",
    "df_for_2021_22[\"Total_visit_2021_22\"] = (df_for_2021_22[\"Domestic_2021_22\"] + df_for_2021_22[\"Foreign_2021_22\"])/1000000\n",
    "\n",
    "df_for_2022_23 = df_clean[['Monument_Name','Domestic_2022_23', 'Foreign_2022_23']].copy()\n",
    "df_for_2022_23[\"Total_visit_2022_23\"] = (df_for_2022_23[\"Domestic_2022_23\"] + df_for_2022_23[\"Foreign_2022_23\"])/1000000"
   ]
  },
  {
   "cell_type": "code",
   "execution_count": 101,
   "id": "8333a761-f22d-4115-98b2-d1886b9b3a19",
   "metadata": {},
   "outputs": [],
   "source": [
    "#This will help in sorting the values\n",
    "\n",
    "df_for_2021_22[\"Total_visit_2021_22\"]= df_for_2021_22[\"Total_visit_2021_22\"].astype(float)\n",
    "df_for_2021_22.sort_values(\"Total_visit_2021_22\", ascending=False)\n",
    "df_for_2021_22.reset_index(drop = True, inplace = True)\n",
    "\n",
    "df_for_2022_23[\"Total_visit_2022_23\"]= df_for_2022_23[\"Total_visit_2022_23\"].astype(float)\n",
    "df_for_2022_23.sort_values(\"Total_visit_2022_23\", ascending=False)\n",
    "df_for_2022_23.reset_index(drop = True, inplace = True)"
   ]
  },
  {
   "cell_type": "code",
   "execution_count": 102,
   "id": "38e8c0b2-da8f-4a9f-8136-b375e11e4230",
   "metadata": {},
   "outputs": [],
   "source": [
    "#geting the top 15 out of all the places \n",
    "\n",
    "top_monuments_2021_22 = df_for_2021_22.nlargest(15, 'Total_visit_2021_22').copy()\n",
    "top_monuments_2022_23 = df_for_2022_23.nlargest(15, 'Total_visit_2022_23').copy()"
   ]
  },
  {
   "cell_type": "code",
   "execution_count": 119,
   "id": "e810cb1f-8bf4-4045-98a3-c5643e3ae727",
   "metadata": {},
   "outputs": [
    {
     "ename": "TypeError",
     "evalue": "ufunc 'isfinite' not supported for the input types, and the inputs could not be safely coerced to any supported types according to the casting rule ''safe''",
     "output_type": "error",
     "traceback": [
      "\u001b[1;31m---------------------------------------------------------------------------\u001b[0m",
      "\u001b[1;31mTypeError\u001b[0m                                 Traceback (most recent call last)",
      "Cell \u001b[1;32mIn[119], line 14\u001b[0m\n\u001b[0;32m     12\u001b[0m \u001b[38;5;66;03m# Create stackplot\u001b[39;00m\n\u001b[0;32m     13\u001b[0m plt\u001b[38;5;241m.\u001b[39mfigure(figsize\u001b[38;5;241m=\u001b[39m(\u001b[38;5;241m15\u001b[39m, \u001b[38;5;241m8\u001b[39m))\n\u001b[1;32m---> 14\u001b[0m plt\u001b[38;5;241m.\u001b[39mstackplot(x, domestic, foreign, \n\u001b[0;32m     15\u001b[0m              labels\u001b[38;5;241m=\u001b[39m[\u001b[38;5;124m'\u001b[39m\u001b[38;5;124mDomestic\u001b[39m\u001b[38;5;124m'\u001b[39m, \u001b[38;5;124m'\u001b[39m\u001b[38;5;124mForeign\u001b[39m\u001b[38;5;124m'\u001b[39m], \n\u001b[0;32m     16\u001b[0m              colors\u001b[38;5;241m=\u001b[39m[\u001b[38;5;124m'\u001b[39m\u001b[38;5;124mskyblue\u001b[39m\u001b[38;5;124m'\u001b[39m, \u001b[38;5;124m'\u001b[39m\u001b[38;5;124mlightcoral\u001b[39m\u001b[38;5;124m'\u001b[39m], \n\u001b[0;32m     17\u001b[0m              alpha\u001b[38;5;241m=\u001b[39m\u001b[38;5;241m0.8\u001b[39m)\n\u001b[0;32m     19\u001b[0m \u001b[38;5;66;03m# Customize plot\u001b[39;00m\n\u001b[0;32m     20\u001b[0m plt\u001b[38;5;241m.\u001b[39mxlabel(\u001b[38;5;124m'\u001b[39m\u001b[38;5;124mMonuments\u001b[39m\u001b[38;5;124m'\u001b[39m, fontsize\u001b[38;5;241m=\u001b[39m\u001b[38;5;241m12\u001b[39m, fontweight\u001b[38;5;241m=\u001b[39m\u001b[38;5;124m'\u001b[39m\u001b[38;5;124mbold\u001b[39m\u001b[38;5;124m'\u001b[39m)\n",
      "File \u001b[1;32m~\\anaconda3\\envs\\datascience\\Lib\\site-packages\\matplotlib\\pyplot.py:4050\u001b[0m, in \u001b[0;36mstackplot\u001b[1;34m(x, labels, colors, hatch, baseline, data, *args, **kwargs)\u001b[0m\n\u001b[0;32m   4046\u001b[0m \u001b[38;5;129m@_copy_docstring_and_deprecators\u001b[39m(Axes\u001b[38;5;241m.\u001b[39mstackplot)\n\u001b[0;32m   4047\u001b[0m \u001b[38;5;28;01mdef\u001b[39;00m\u001b[38;5;250m \u001b[39m\u001b[38;5;21mstackplot\u001b[39m(\n\u001b[0;32m   4048\u001b[0m     x, \u001b[38;5;241m*\u001b[39margs, labels\u001b[38;5;241m=\u001b[39m(), colors\u001b[38;5;241m=\u001b[39m\u001b[38;5;28;01mNone\u001b[39;00m, hatch\u001b[38;5;241m=\u001b[39m\u001b[38;5;28;01mNone\u001b[39;00m, baseline\u001b[38;5;241m=\u001b[39m\u001b[38;5;124m\"\u001b[39m\u001b[38;5;124mzero\u001b[39m\u001b[38;5;124m\"\u001b[39m, data\u001b[38;5;241m=\u001b[39m\u001b[38;5;28;01mNone\u001b[39;00m, \u001b[38;5;241m*\u001b[39m\u001b[38;5;241m*\u001b[39mkwargs\n\u001b[0;32m   4049\u001b[0m ):\n\u001b[1;32m-> 4050\u001b[0m     \u001b[38;5;28;01mreturn\u001b[39;00m gca()\u001b[38;5;241m.\u001b[39mstackplot(\n\u001b[0;32m   4051\u001b[0m         x,\n\u001b[0;32m   4052\u001b[0m         \u001b[38;5;241m*\u001b[39margs,\n\u001b[0;32m   4053\u001b[0m         labels\u001b[38;5;241m=\u001b[39mlabels,\n\u001b[0;32m   4054\u001b[0m         colors\u001b[38;5;241m=\u001b[39mcolors,\n\u001b[0;32m   4055\u001b[0m         hatch\u001b[38;5;241m=\u001b[39mhatch,\n\u001b[0;32m   4056\u001b[0m         baseline\u001b[38;5;241m=\u001b[39mbaseline,\n\u001b[0;32m   4057\u001b[0m         \u001b[38;5;241m*\u001b[39m\u001b[38;5;241m*\u001b[39m({\u001b[38;5;124m\"\u001b[39m\u001b[38;5;124mdata\u001b[39m\u001b[38;5;124m\"\u001b[39m: data} \u001b[38;5;28;01mif\u001b[39;00m data \u001b[38;5;129;01mis\u001b[39;00m \u001b[38;5;129;01mnot\u001b[39;00m \u001b[38;5;28;01mNone\u001b[39;00m \u001b[38;5;28;01melse\u001b[39;00m {}),\n\u001b[0;32m   4058\u001b[0m         \u001b[38;5;241m*\u001b[39m\u001b[38;5;241m*\u001b[39mkwargs,\n\u001b[0;32m   4059\u001b[0m     )\n",
      "File \u001b[1;32m~\\anaconda3\\envs\\datascience\\Lib\\site-packages\\matplotlib\\__init__.py:1521\u001b[0m, in \u001b[0;36m_preprocess_data.<locals>.inner\u001b[1;34m(ax, data, *args, **kwargs)\u001b[0m\n\u001b[0;32m   1518\u001b[0m \u001b[38;5;129m@functools\u001b[39m\u001b[38;5;241m.\u001b[39mwraps(func)\n\u001b[0;32m   1519\u001b[0m \u001b[38;5;28;01mdef\u001b[39;00m\u001b[38;5;250m \u001b[39m\u001b[38;5;21minner\u001b[39m(ax, \u001b[38;5;241m*\u001b[39margs, data\u001b[38;5;241m=\u001b[39m\u001b[38;5;28;01mNone\u001b[39;00m, \u001b[38;5;241m*\u001b[39m\u001b[38;5;241m*\u001b[39mkwargs):\n\u001b[0;32m   1520\u001b[0m     \u001b[38;5;28;01mif\u001b[39;00m data \u001b[38;5;129;01mis\u001b[39;00m \u001b[38;5;28;01mNone\u001b[39;00m:\n\u001b[1;32m-> 1521\u001b[0m         \u001b[38;5;28;01mreturn\u001b[39;00m func(\n\u001b[0;32m   1522\u001b[0m             ax,\n\u001b[0;32m   1523\u001b[0m             \u001b[38;5;241m*\u001b[39m\u001b[38;5;28mmap\u001b[39m(cbook\u001b[38;5;241m.\u001b[39msanitize_sequence, args),\n\u001b[0;32m   1524\u001b[0m             \u001b[38;5;241m*\u001b[39m\u001b[38;5;241m*\u001b[39m{k: cbook\u001b[38;5;241m.\u001b[39msanitize_sequence(v) \u001b[38;5;28;01mfor\u001b[39;00m k, v \u001b[38;5;129;01min\u001b[39;00m kwargs\u001b[38;5;241m.\u001b[39mitems()})\n\u001b[0;32m   1526\u001b[0m     bound \u001b[38;5;241m=\u001b[39m new_sig\u001b[38;5;241m.\u001b[39mbind(ax, \u001b[38;5;241m*\u001b[39margs, \u001b[38;5;241m*\u001b[39m\u001b[38;5;241m*\u001b[39mkwargs)\n\u001b[0;32m   1527\u001b[0m     auto_label \u001b[38;5;241m=\u001b[39m (bound\u001b[38;5;241m.\u001b[39marguments\u001b[38;5;241m.\u001b[39mget(label_namer)\n\u001b[0;32m   1528\u001b[0m                   \u001b[38;5;129;01mor\u001b[39;00m bound\u001b[38;5;241m.\u001b[39mkwargs\u001b[38;5;241m.\u001b[39mget(label_namer))\n",
      "File \u001b[1;32m~\\anaconda3\\envs\\datascience\\Lib\\site-packages\\matplotlib\\stackplot.py:132\u001b[0m, in \u001b[0;36mstackplot\u001b[1;34m(axes, x, labels, colors, hatch, baseline, *args, **kwargs)\u001b[0m\n\u001b[0;32m    129\u001b[0m     stack \u001b[38;5;241m+\u001b[39m\u001b[38;5;241m=\u001b[39m first_line\n\u001b[0;32m    131\u001b[0m \u001b[38;5;66;03m# Color between x = 0 and the first array.\u001b[39;00m\n\u001b[1;32m--> 132\u001b[0m coll \u001b[38;5;241m=\u001b[39m axes\u001b[38;5;241m.\u001b[39mfill_between(x, first_line, stack[\u001b[38;5;241m0\u001b[39m, :],\n\u001b[0;32m    133\u001b[0m                          facecolor\u001b[38;5;241m=\u001b[39m\u001b[38;5;28mnext\u001b[39m(colors),\n\u001b[0;32m    134\u001b[0m                          hatch\u001b[38;5;241m=\u001b[39m\u001b[38;5;28mnext\u001b[39m(hatch),\n\u001b[0;32m    135\u001b[0m                          label\u001b[38;5;241m=\u001b[39m\u001b[38;5;28mnext\u001b[39m(labels, \u001b[38;5;28;01mNone\u001b[39;00m),\n\u001b[0;32m    136\u001b[0m                          \u001b[38;5;241m*\u001b[39m\u001b[38;5;241m*\u001b[39mkwargs)\n\u001b[0;32m    137\u001b[0m coll\u001b[38;5;241m.\u001b[39msticky_edges\u001b[38;5;241m.\u001b[39my[:] \u001b[38;5;241m=\u001b[39m [\u001b[38;5;241m0\u001b[39m]\n\u001b[0;32m    138\u001b[0m r \u001b[38;5;241m=\u001b[39m [coll]\n",
      "File \u001b[1;32m~\\anaconda3\\envs\\datascience\\Lib\\site-packages\\matplotlib\\__init__.py:1521\u001b[0m, in \u001b[0;36m_preprocess_data.<locals>.inner\u001b[1;34m(ax, data, *args, **kwargs)\u001b[0m\n\u001b[0;32m   1518\u001b[0m \u001b[38;5;129m@functools\u001b[39m\u001b[38;5;241m.\u001b[39mwraps(func)\n\u001b[0;32m   1519\u001b[0m \u001b[38;5;28;01mdef\u001b[39;00m\u001b[38;5;250m \u001b[39m\u001b[38;5;21minner\u001b[39m(ax, \u001b[38;5;241m*\u001b[39margs, data\u001b[38;5;241m=\u001b[39m\u001b[38;5;28;01mNone\u001b[39;00m, \u001b[38;5;241m*\u001b[39m\u001b[38;5;241m*\u001b[39mkwargs):\n\u001b[0;32m   1520\u001b[0m     \u001b[38;5;28;01mif\u001b[39;00m data \u001b[38;5;129;01mis\u001b[39;00m \u001b[38;5;28;01mNone\u001b[39;00m:\n\u001b[1;32m-> 1521\u001b[0m         \u001b[38;5;28;01mreturn\u001b[39;00m func(\n\u001b[0;32m   1522\u001b[0m             ax,\n\u001b[0;32m   1523\u001b[0m             \u001b[38;5;241m*\u001b[39m\u001b[38;5;28mmap\u001b[39m(cbook\u001b[38;5;241m.\u001b[39msanitize_sequence, args),\n\u001b[0;32m   1524\u001b[0m             \u001b[38;5;241m*\u001b[39m\u001b[38;5;241m*\u001b[39m{k: cbook\u001b[38;5;241m.\u001b[39msanitize_sequence(v) \u001b[38;5;28;01mfor\u001b[39;00m k, v \u001b[38;5;129;01min\u001b[39;00m kwargs\u001b[38;5;241m.\u001b[39mitems()})\n\u001b[0;32m   1526\u001b[0m     bound \u001b[38;5;241m=\u001b[39m new_sig\u001b[38;5;241m.\u001b[39mbind(ax, \u001b[38;5;241m*\u001b[39margs, \u001b[38;5;241m*\u001b[39m\u001b[38;5;241m*\u001b[39mkwargs)\n\u001b[0;32m   1527\u001b[0m     auto_label \u001b[38;5;241m=\u001b[39m (bound\u001b[38;5;241m.\u001b[39marguments\u001b[38;5;241m.\u001b[39mget(label_namer)\n\u001b[0;32m   1528\u001b[0m                   \u001b[38;5;129;01mor\u001b[39;00m bound\u001b[38;5;241m.\u001b[39mkwargs\u001b[38;5;241m.\u001b[39mget(label_namer))\n",
      "File \u001b[1;32m~\\anaconda3\\envs\\datascience\\Lib\\site-packages\\matplotlib\\axes\\_axes.py:5716\u001b[0m, in \u001b[0;36mAxes.fill_between\u001b[1;34m(self, x, y1, y2, where, interpolate, step, **kwargs)\u001b[0m\n\u001b[0;32m   5714\u001b[0m \u001b[38;5;28;01mdef\u001b[39;00m\u001b[38;5;250m \u001b[39m\u001b[38;5;21mfill_between\u001b[39m(\u001b[38;5;28mself\u001b[39m, x, y1, y2\u001b[38;5;241m=\u001b[39m\u001b[38;5;241m0\u001b[39m, where\u001b[38;5;241m=\u001b[39m\u001b[38;5;28;01mNone\u001b[39;00m, interpolate\u001b[38;5;241m=\u001b[39m\u001b[38;5;28;01mFalse\u001b[39;00m,\n\u001b[0;32m   5715\u001b[0m                  step\u001b[38;5;241m=\u001b[39m\u001b[38;5;28;01mNone\u001b[39;00m, \u001b[38;5;241m*\u001b[39m\u001b[38;5;241m*\u001b[39mkwargs):\n\u001b[1;32m-> 5716\u001b[0m     \u001b[38;5;28;01mreturn\u001b[39;00m \u001b[38;5;28mself\u001b[39m\u001b[38;5;241m.\u001b[39m_fill_between_x_or_y(\n\u001b[0;32m   5717\u001b[0m         \u001b[38;5;124m\"\u001b[39m\u001b[38;5;124mx\u001b[39m\u001b[38;5;124m\"\u001b[39m, x, y1, y2,\n\u001b[0;32m   5718\u001b[0m         where\u001b[38;5;241m=\u001b[39mwhere, interpolate\u001b[38;5;241m=\u001b[39minterpolate, step\u001b[38;5;241m=\u001b[39mstep, \u001b[38;5;241m*\u001b[39m\u001b[38;5;241m*\u001b[39mkwargs)\n",
      "File \u001b[1;32m~\\anaconda3\\envs\\datascience\\Lib\\site-packages\\matplotlib\\axes\\_axes.py:5698\u001b[0m, in \u001b[0;36mAxes._fill_between_x_or_y\u001b[1;34m(self, ind_dir, ind, dep1, dep2, where, interpolate, step, **kwargs)\u001b[0m\n\u001b[0;32m   5695\u001b[0m     \u001b[38;5;28;01mif\u001b[39;00m \u001b[38;5;129;01mnot\u001b[39;00m \u001b[38;5;28many\u001b[39m(c \u001b[38;5;129;01min\u001b[39;00m kwargs \u001b[38;5;28;01mfor\u001b[39;00m c \u001b[38;5;129;01min\u001b[39;00m (\u001b[38;5;124m\"\u001b[39m\u001b[38;5;124mcolor\u001b[39m\u001b[38;5;124m\"\u001b[39m, \u001b[38;5;124m\"\u001b[39m\u001b[38;5;124mfacecolor\u001b[39m\u001b[38;5;124m\"\u001b[39m)):\n\u001b[0;32m   5696\u001b[0m         kwargs[\u001b[38;5;124m\"\u001b[39m\u001b[38;5;124mfacecolor\u001b[39m\u001b[38;5;124m\"\u001b[39m] \u001b[38;5;241m=\u001b[39m \u001b[38;5;28mself\u001b[39m\u001b[38;5;241m.\u001b[39m_get_patches_for_fill\u001b[38;5;241m.\u001b[39mget_next_color()\n\u001b[1;32m-> 5698\u001b[0m ind, dep1, dep2 \u001b[38;5;241m=\u001b[39m \u001b[38;5;28mself\u001b[39m\u001b[38;5;241m.\u001b[39m_fill_between_process_units(\n\u001b[0;32m   5699\u001b[0m     ind_dir, dep_dir, ind, dep1, dep2, \u001b[38;5;241m*\u001b[39m\u001b[38;5;241m*\u001b[39mkwargs)\n\u001b[0;32m   5701\u001b[0m collection \u001b[38;5;241m=\u001b[39m mcoll\u001b[38;5;241m.\u001b[39mFillBetweenPolyCollection(\n\u001b[0;32m   5702\u001b[0m     ind_dir, ind, dep1, dep2,\n\u001b[0;32m   5703\u001b[0m     where\u001b[38;5;241m=\u001b[39mwhere, interpolate\u001b[38;5;241m=\u001b[39minterpolate, step\u001b[38;5;241m=\u001b[39mstep, \u001b[38;5;241m*\u001b[39m\u001b[38;5;241m*\u001b[39mkwargs)\n\u001b[0;32m   5705\u001b[0m \u001b[38;5;28mself\u001b[39m\u001b[38;5;241m.\u001b[39madd_collection(collection)\n",
      "File \u001b[1;32m~\\anaconda3\\envs\\datascience\\Lib\\site-packages\\numpy\\ma\\core.py:2426\u001b[0m, in \u001b[0;36mmasked_invalid\u001b[1;34m(a, copy)\u001b[0m\n\u001b[0;32m   2398\u001b[0m \u001b[38;5;250m\u001b[39m\u001b[38;5;124;03m\"\"\"\u001b[39;00m\n\u001b[0;32m   2399\u001b[0m \u001b[38;5;124;03mMask an array where invalid values occur (NaNs or infs).\u001b[39;00m\n\u001b[0;32m   2400\u001b[0m \n\u001b[1;32m   (...)\u001b[0m\n\u001b[0;32m   2423\u001b[0m \n\u001b[0;32m   2424\u001b[0m \u001b[38;5;124;03m\"\"\"\u001b[39;00m\n\u001b[0;32m   2425\u001b[0m a \u001b[38;5;241m=\u001b[39m np\u001b[38;5;241m.\u001b[39marray(a, copy\u001b[38;5;241m=\u001b[39m\u001b[38;5;28;01mNone\u001b[39;00m, subok\u001b[38;5;241m=\u001b[39m\u001b[38;5;28;01mTrue\u001b[39;00m)\n\u001b[1;32m-> 2426\u001b[0m res \u001b[38;5;241m=\u001b[39m masked_where(\u001b[38;5;241m~\u001b[39m(np\u001b[38;5;241m.\u001b[39misfinite(a)), a, copy\u001b[38;5;241m=\u001b[39mcopy)\n\u001b[0;32m   2427\u001b[0m \u001b[38;5;66;03m# masked_invalid previously never returned nomask as a mask and doing so\u001b[39;00m\n\u001b[0;32m   2428\u001b[0m \u001b[38;5;66;03m# threw off matplotlib (gh-22842).  So use shrink=False:\u001b[39;00m\n\u001b[0;32m   2429\u001b[0m \u001b[38;5;28;01mif\u001b[39;00m res\u001b[38;5;241m.\u001b[39m_mask \u001b[38;5;129;01mis\u001b[39;00m nomask:\n",
      "\u001b[1;31mTypeError\u001b[0m: ufunc 'isfinite' not supported for the input types, and the inputs could not be safely coerced to any supported types according to the casting rule ''safe''"
     ]
    },
    {
     "data": {
      "image/png": "[encoded data removed]",
      "text/plain": [
       "<Figure size 1500x800 with 1 Axes>"
      ]
     },
     "metadata": {},
     "output_type": "display_data"
    }
   ],
   "source": [
    "import matplotlib.pyplot as plt\n",
    "import numpy as np\n",
    "\n",
    "# Prepare data\n",
    "monuments = top_monuments_2021_22[\"Monument_Name\"]\n",
    "domestic = top_monuments_2021_22[\"Domestic_2021_22\"] / 1000000\n",
    "foreign = top_monuments_2021_22[\"Foreign_2021_22\"] / 1000000\n",
    "\n",
    "# Create x-axis\n",
    "x = np.arange(len(monuments))\n",
    "\n",
    "# Create stackplot\n",
    "plt.figure(figsize=(15, 8))\n",
    "plt.stackplot(x, domestic, foreign, \n",
    "             labels=['Domestic', 'Foreign'], \n",
    "             colors=['skyblue', 'lightcoral'], \n",
    "             alpha=0.8)\n",
    "\n",
    "# Customize plot\n",
    "plt.xlabel('Monuments', fontsize=12, fontweight='bold')\n",
    "plt.ylabel('Visitors (in millions)', fontsize=12, fontweight='bold')\n",
    "plt.title('Monument Visitors in 2021-22 (Cumulative Stack)', fontsize=14, fontweight='bold')\n",
    "plt.xticks(x, monuments, rotation=45, ha='right', fontsize=10)\n",
    "plt.legend(loc='upper left')\n",
    "plt.grid(True, alpha=0.3)\n",
    "plt.tight_layout()"
   ]
  },
  {
   "cell_type": "code",
   "execution_count": 117,
   "id": "9215593e-ecfd-47f0-9e43-7dce37f7bfc1",
   "metadata": {},
   "outputs": [
    {
     "ename": "TypeError",
     "evalue": "ufunc 'isfinite' not supported for the input types, and the inputs could not be safely coerced to any supported types according to the casting rule ''safe''",
     "output_type": "error",
     "traceback": [
      "\u001b[1;31m---------------------------------------------------------------------------\u001b[0m",
      "\u001b[1;31mTypeError\u001b[0m                                 Traceback (most recent call last)",
      "Cell \u001b[1;32mIn[117], line 10\u001b[0m\n\u001b[0;32m      7\u001b[0m x \u001b[38;5;241m=\u001b[39m np\u001b[38;5;241m.\u001b[39marange(\u001b[38;5;28mlen\u001b[39m(Monuments_name_2021_22))\n\u001b[0;32m      9\u001b[0m plt\u001b[38;5;241m.\u001b[39mfigure(figsize\u001b[38;5;241m=\u001b[39m(\u001b[38;5;241m15\u001b[39m, \u001b[38;5;241m8\u001b[39m))\n\u001b[1;32m---> 10\u001b[0m plt\u001b[38;5;241m.\u001b[39mstackplot(x, Domestic_2021_22, Foreign_2021_22, \n\u001b[0;32m     11\u001b[0m              labels\u001b[38;5;241m=\u001b[39m[\u001b[38;5;124m'\u001b[39m\u001b[38;5;124mDomestic\u001b[39m\u001b[38;5;124m'\u001b[39m, \u001b[38;5;124m'\u001b[39m\u001b[38;5;124mForeign\u001b[39m\u001b[38;5;124m'\u001b[39m], \n\u001b[0;32m     12\u001b[0m              colors\u001b[38;5;241m=\u001b[39m[\u001b[38;5;124m'\u001b[39m\u001b[38;5;124mskyblue\u001b[39m\u001b[38;5;124m'\u001b[39m, \u001b[38;5;124m'\u001b[39m\u001b[38;5;124mlightcoral\u001b[39m\u001b[38;5;124m'\u001b[39m], \n\u001b[0;32m     13\u001b[0m              alpha\u001b[38;5;241m=\u001b[39m\u001b[38;5;241m0.8\u001b[39m) \u001b[38;5;66;03m#stack plot always take x first and them y\u001b[39;00m\n\u001b[0;32m     15\u001b[0m plt\u001b[38;5;241m.\u001b[39mxlabel(\u001b[38;5;124m\"\u001b[39m\u001b[38;5;124mMonuments\u001b[39m\u001b[38;5;124m\"\u001b[39m, fontsize\u001b[38;5;241m=\u001b[39m\u001b[38;5;241m12\u001b[39m, fontweight\u001b[38;5;241m=\u001b[39m\u001b[38;5;124m'\u001b[39m\u001b[38;5;124mbold\u001b[39m\u001b[38;5;124m'\u001b[39m)\n\u001b[0;32m     16\u001b[0m plt\u001b[38;5;241m.\u001b[39mylabel(\u001b[38;5;124m\"\u001b[39m\u001b[38;5;124mVisitors (in millions)\u001b[39m\u001b[38;5;124m\"\u001b[39m, fontsize\u001b[38;5;241m=\u001b[39m\u001b[38;5;241m12\u001b[39m, fontweight\u001b[38;5;241m=\u001b[39m\u001b[38;5;124m'\u001b[39m\u001b[38;5;124mbold\u001b[39m\u001b[38;5;124m'\u001b[39m)\n",
      "File \u001b[1;32m~\\anaconda3\\envs\\datascience\\Lib\\site-packages\\matplotlib\\pyplot.py:4050\u001b[0m, in \u001b[0;36mstackplot\u001b[1;34m(x, labels, colors, hatch, baseline, data, *args, **kwargs)\u001b[0m\n\u001b[0;32m   4046\u001b[0m \u001b[38;5;129m@_copy_docstring_and_deprecators\u001b[39m(Axes\u001b[38;5;241m.\u001b[39mstackplot)\n\u001b[0;32m   4047\u001b[0m \u001b[38;5;28;01mdef\u001b[39;00m\u001b[38;5;250m \u001b[39m\u001b[38;5;21mstackplot\u001b[39m(\n\u001b[0;32m   4048\u001b[0m     x, \u001b[38;5;241m*\u001b[39margs, labels\u001b[38;5;241m=\u001b[39m(), colors\u001b[38;5;241m=\u001b[39m\u001b[38;5;28;01mNone\u001b[39;00m, hatch\u001b[38;5;241m=\u001b[39m\u001b[38;5;28;01mNone\u001b[39;00m, baseline\u001b[38;5;241m=\u001b[39m\u001b[38;5;124m\"\u001b[39m\u001b[38;5;124mzero\u001b[39m\u001b[38;5;124m\"\u001b[39m, data\u001b[38;5;241m=\u001b[39m\u001b[38;5;28;01mNone\u001b[39;00m, \u001b[38;5;241m*\u001b[39m\u001b[38;5;241m*\u001b[39mkwargs\n\u001b[0;32m   4049\u001b[0m ):\n\u001b[1;32m-> 4050\u001b[0m     \u001b[38;5;28;01mreturn\u001b[39;00m gca()\u001b[38;5;241m.\u001b[39mstackplot(\n\u001b[0;32m   4051\u001b[0m         x,\n\u001b[0;32m   4052\u001b[0m         \u001b[38;5;241m*\u001b[39margs,\n\u001b[0;32m   4053\u001b[0m         labels\u001b[38;5;241m=\u001b[39mlabels,\n\u001b[0;32m   4054\u001b[0m         colors\u001b[38;5;241m=\u001b[39mcolors,\n\u001b[0;32m   4055\u001b[0m         hatch\u001b[38;5;241m=\u001b[39mhatch,\n\u001b[0;32m   4056\u001b[0m         baseline\u001b[38;5;241m=\u001b[39mbaseline,\n\u001b[0;32m   4057\u001b[0m         \u001b[38;5;241m*\u001b[39m\u001b[38;5;241m*\u001b[39m({\u001b[38;5;124m\"\u001b[39m\u001b[38;5;124mdata\u001b[39m\u001b[38;5;124m\"\u001b[39m: data} \u001b[38;5;28;01mif\u001b[39;00m data \u001b[38;5;129;01mis\u001b[39;00m \u001b[38;5;129;01mnot\u001b[39;00m \u001b[38;5;28;01mNone\u001b[39;00m \u001b[38;5;28;01melse\u001b[39;00m {}),\n\u001b[0;32m   4058\u001b[0m         \u001b[38;5;241m*\u001b[39m\u001b[38;5;241m*\u001b[39mkwargs,\n\u001b[0;32m   4059\u001b[0m     )\n",
      "File \u001b[1;32m~\\anaconda3\\envs\\datascience\\Lib\\site-packages\\matplotlib\\__init__.py:1521\u001b[0m, in \u001b[0;36m_preprocess_data.<locals>.inner\u001b[1;34m(ax, data, *args, **kwargs)\u001b[0m\n\u001b[0;32m   1518\u001b[0m \u001b[38;5;129m@functools\u001b[39m\u001b[38;5;241m.\u001b[39mwraps(func)\n\u001b[0;32m   1519\u001b[0m \u001b[38;5;28;01mdef\u001b[39;00m\u001b[38;5;250m \u001b[39m\u001b[38;5;21minner\u001b[39m(ax, \u001b[38;5;241m*\u001b[39margs, data\u001b[38;5;241m=\u001b[39m\u001b[38;5;28;01mNone\u001b[39;00m, \u001b[38;5;241m*\u001b[39m\u001b[38;5;241m*\u001b[39mkwargs):\n\u001b[0;32m   1520\u001b[0m     \u001b[38;5;28;01mif\u001b[39;00m data \u001b[38;5;129;01mis\u001b[39;00m \u001b[38;5;28;01mNone\u001b[39;00m:\n\u001b[1;32m-> 1521\u001b[0m         \u001b[38;5;28;01mreturn\u001b[39;00m func(\n\u001b[0;32m   1522\u001b[0m             ax,\n\u001b[0;32m   1523\u001b[0m             \u001b[38;5;241m*\u001b[39m\u001b[38;5;28mmap\u001b[39m(cbook\u001b[38;5;241m.\u001b[39msanitize_sequence, args),\n\u001b[0;32m   1524\u001b[0m             \u001b[38;5;241m*\u001b[39m\u001b[38;5;241m*\u001b[39m{k: cbook\u001b[38;5;241m.\u001b[39msanitize_sequence(v) \u001b[38;5;28;01mfor\u001b[39;00m k, v \u001b[38;5;129;01min\u001b[39;00m kwargs\u001b[38;5;241m.\u001b[39mitems()})\n\u001b[0;32m   1526\u001b[0m     bound \u001b[38;5;241m=\u001b[39m new_sig\u001b[38;5;241m.\u001b[39mbind(ax, \u001b[38;5;241m*\u001b[39margs, \u001b[38;5;241m*\u001b[39m\u001b[38;5;241m*\u001b[39mkwargs)\n\u001b[0;32m   1527\u001b[0m     auto_label \u001b[38;5;241m=\u001b[39m (bound\u001b[38;5;241m.\u001b[39marguments\u001b[38;5;241m.\u001b[39mget(label_namer)\n\u001b[0;32m   1528\u001b[0m                   \u001b[38;5;129;01mor\u001b[39;00m bound\u001b[38;5;241m.\u001b[39mkwargs\u001b[38;5;241m.\u001b[39mget(label_namer))\n",
      "File \u001b[1;32m~\\anaconda3\\envs\\datascience\\Lib\\site-packages\\matplotlib\\stackplot.py:132\u001b[0m, in \u001b[0;36mstackplot\u001b[1;34m(axes, x, labels, colors, hatch, baseline, *args, **kwargs)\u001b[0m\n\u001b[0;32m    129\u001b[0m     stack \u001b[38;5;241m+\u001b[39m\u001b[38;5;241m=\u001b[39m first_line\n\u001b[0;32m    131\u001b[0m \u001b[38;5;66;03m# Color between x = 0 and the first array.\u001b[39;00m\n\u001b[1;32m--> 132\u001b[0m coll \u001b[38;5;241m=\u001b[39m axes\u001b[38;5;241m.\u001b[39mfill_between(x, first_line, stack[\u001b[38;5;241m0\u001b[39m, :],\n\u001b[0;32m    133\u001b[0m                          facecolor\u001b[38;5;241m=\u001b[39m\u001b[38;5;28mnext\u001b[39m(colors),\n\u001b[0;32m    134\u001b[0m                          hatch\u001b[38;5;241m=\u001b[39m\u001b[38;5;28mnext\u001b[39m(hatch),\n\u001b[0;32m    135\u001b[0m                          label\u001b[38;5;241m=\u001b[39m\u001b[38;5;28mnext\u001b[39m(labels, \u001b[38;5;28;01mNone\u001b[39;00m),\n\u001b[0;32m    136\u001b[0m                          \u001b[38;5;241m*\u001b[39m\u001b[38;5;241m*\u001b[39mkwargs)\n\u001b[0;32m    137\u001b[0m coll\u001b[38;5;241m.\u001b[39msticky_edges\u001b[38;5;241m.\u001b[39my[:] \u001b[38;5;241m=\u001b[39m [\u001b[38;5;241m0\u001b[39m]\n\u001b[0;32m    138\u001b[0m r \u001b[38;5;241m=\u001b[39m [coll]\n",
      "File \u001b[1;32m~\\anaconda3\\envs\\datascience\\Lib\\site-packages\\matplotlib\\__init__.py:1521\u001b[0m, in \u001b[0;36m_preprocess_data.<locals>.inner\u001b[1;34m(ax, data, *args, **kwargs)\u001b[0m\n\u001b[0;32m   1518\u001b[0m \u001b[38;5;129m@functools\u001b[39m\u001b[38;5;241m.\u001b[39mwraps(func)\n\u001b[0;32m   1519\u001b[0m \u001b[38;5;28;01mdef\u001b[39;00m\u001b[38;5;250m \u001b[39m\u001b[38;5;21minner\u001b[39m(ax, \u001b[38;5;241m*\u001b[39margs, data\u001b[38;5;241m=\u001b[39m\u001b[38;5;28;01mNone\u001b[39;00m, \u001b[38;5;241m*\u001b[39m\u001b[38;5;241m*\u001b[39mkwargs):\n\u001b[0;32m   1520\u001b[0m     \u001b[38;5;28;01mif\u001b[39;00m data \u001b[38;5;129;01mis\u001b[39;00m \u001b[38;5;28;01mNone\u001b[39;00m:\n\u001b[1;32m-> 1521\u001b[0m         \u001b[38;5;28;01mreturn\u001b[39;00m func(\n\u001b[0;32m   1522\u001b[0m             ax,\n\u001b[0;32m   1523\u001b[0m             \u001b[38;5;241m*\u001b[39m\u001b[38;5;28mmap\u001b[39m(cbook\u001b[38;5;241m.\u001b[39msanitize_sequence, args),\n\u001b[0;32m   1524\u001b[0m             \u001b[38;5;241m*\u001b[39m\u001b[38;5;241m*\u001b[39m{k: cbook\u001b[38;5;241m.\u001b[39msanitize_sequence(v) \u001b[38;5;28;01mfor\u001b[39;00m k, v \u001b[38;5;129;01min\u001b[39;00m kwargs\u001b[38;5;241m.\u001b[39mitems()})\n\u001b[0;32m   1526\u001b[0m     bound \u001b[38;5;241m=\u001b[39m new_sig\u001b[38;5;241m.\u001b[39mbind(ax, \u001b[38;5;241m*\u001b[39margs, \u001b[38;5;241m*\u001b[39m\u001b[38;5;241m*\u001b[39mkwargs)\n\u001b[0;32m   1527\u001b[0m     auto_label \u001b[38;5;241m=\u001b[39m (bound\u001b[38;5;241m.\u001b[39marguments\u001b[38;5;241m.\u001b[39mget(label_namer)\n\u001b[0;32m   1528\u001b[0m                   \u001b[38;5;129;01mor\u001b[39;00m bound\u001b[38;5;241m.\u001b[39mkwargs\u001b[38;5;241m.\u001b[39mget(label_namer))\n",
      "File \u001b[1;32m~\\anaconda3\\envs\\datascience\\Lib\\site-packages\\matplotlib\\axes\\_axes.py:5716\u001b[0m, in \u001b[0;36mAxes.fill_between\u001b[1;34m(self, x, y1, y2, where, interpolate, step, **kwargs)\u001b[0m\n\u001b[0;32m   5714\u001b[0m \u001b[38;5;28;01mdef\u001b[39;00m\u001b[38;5;250m \u001b[39m\u001b[38;5;21mfill_between\u001b[39m(\u001b[38;5;28mself\u001b[39m, x, y1, y2\u001b[38;5;241m=\u001b[39m\u001b[38;5;241m0\u001b[39m, where\u001b[38;5;241m=\u001b[39m\u001b[38;5;28;01mNone\u001b[39;00m, interpolate\u001b[38;5;241m=\u001b[39m\u001b[38;5;28;01mFalse\u001b[39;00m,\n\u001b[0;32m   5715\u001b[0m                  step\u001b[38;5;241m=\u001b[39m\u001b[38;5;28;01mNone\u001b[39;00m, \u001b[38;5;241m*\u001b[39m\u001b[38;5;241m*\u001b[39mkwargs):\n\u001b[1;32m-> 5716\u001b[0m     \u001b[38;5;28;01mreturn\u001b[39;00m \u001b[38;5;28mself\u001b[39m\u001b[38;5;241m.\u001b[39m_fill_between_x_or_y(\n\u001b[0;32m   5717\u001b[0m         \u001b[38;5;124m\"\u001b[39m\u001b[38;5;124mx\u001b[39m\u001b[38;5;124m\"\u001b[39m, x, y1, y2,\n\u001b[0;32m   5718\u001b[0m         where\u001b[38;5;241m=\u001b[39mwhere, interpolate\u001b[38;5;241m=\u001b[39minterpolate, step\u001b[38;5;241m=\u001b[39mstep, \u001b[38;5;241m*\u001b[39m\u001b[38;5;241m*\u001b[39mkwargs)\n",
      "File \u001b[1;32m~\\anaconda3\\envs\\datascience\\Lib\\site-packages\\matplotlib\\axes\\_axes.py:5698\u001b[0m, in \u001b[0;36mAxes._fill_between_x_or_y\u001b[1;34m(self, ind_dir, ind, dep1, dep2, where, interpolate, step, **kwargs)\u001b[0m\n\u001b[0;32m   5695\u001b[0m     \u001b[38;5;28;01mif\u001b[39;00m \u001b[38;5;129;01mnot\u001b[39;00m \u001b[38;5;28many\u001b[39m(c \u001b[38;5;129;01min\u001b[39;00m kwargs \u001b[38;5;28;01mfor\u001b[39;00m c \u001b[38;5;129;01min\u001b[39;00m (\u001b[38;5;124m\"\u001b[39m\u001b[38;5;124mcolor\u001b[39m\u001b[38;5;124m\"\u001b[39m, \u001b[38;5;124m\"\u001b[39m\u001b[38;5;124mfacecolor\u001b[39m\u001b[38;5;124m\"\u001b[39m)):\n\u001b[0;32m   5696\u001b[0m         kwargs[\u001b[38;5;124m\"\u001b[39m\u001b[38;5;124mfacecolor\u001b[39m\u001b[38;5;124m\"\u001b[39m] \u001b[38;5;241m=\u001b[39m \u001b[38;5;28mself\u001b[39m\u001b[38;5;241m.\u001b[39m_get_patches_for_fill\u001b[38;5;241m.\u001b[39mget_next_color()\n\u001b[1;32m-> 5698\u001b[0m ind, dep1, dep2 \u001b[38;5;241m=\u001b[39m \u001b[38;5;28mself\u001b[39m\u001b[38;5;241m.\u001b[39m_fill_between_process_units(\n\u001b[0;32m   5699\u001b[0m     ind_dir, dep_dir, ind, dep1, dep2, \u001b[38;5;241m*\u001b[39m\u001b[38;5;241m*\u001b[39mkwargs)\n\u001b[0;32m   5701\u001b[0m collection \u001b[38;5;241m=\u001b[39m mcoll\u001b[38;5;241m.\u001b[39mFillBetweenPolyCollection(\n\u001b[0;32m   5702\u001b[0m     ind_dir, ind, dep1, dep2,\n\u001b[0;32m   5703\u001b[0m     where\u001b[38;5;241m=\u001b[39mwhere, interpolate\u001b[38;5;241m=\u001b[39minterpolate, step\u001b[38;5;241m=\u001b[39mstep, \u001b[38;5;241m*\u001b[39m\u001b[38;5;241m*\u001b[39mkwargs)\n\u001b[0;32m   5705\u001b[0m \u001b[38;5;28mself\u001b[39m\u001b[38;5;241m.\u001b[39madd_collection(collection)\n",
      "File \u001b[1;32m~\\anaconda3\\envs\\datascience\\Lib\\site-packages\\numpy\\ma\\core.py:2426\u001b[0m, in \u001b[0;36mmasked_invalid\u001b[1;34m(a, copy)\u001b[0m\n\u001b[0;32m   2398\u001b[0m \u001b[38;5;250m\u001b[39m\u001b[38;5;124;03m\"\"\"\u001b[39;00m\n\u001b[0;32m   2399\u001b[0m \u001b[38;5;124;03mMask an array where invalid values occur (NaNs or infs).\u001b[39;00m\n\u001b[0;32m   2400\u001b[0m \n\u001b[1;32m   (...)\u001b[0m\n\u001b[0;32m   2423\u001b[0m \n\u001b[0;32m   2424\u001b[0m \u001b[38;5;124;03m\"\"\"\u001b[39;00m\n\u001b[0;32m   2425\u001b[0m a \u001b[38;5;241m=\u001b[39m np\u001b[38;5;241m.\u001b[39marray(a, copy\u001b[38;5;241m=\u001b[39m\u001b[38;5;28;01mNone\u001b[39;00m, subok\u001b[38;5;241m=\u001b[39m\u001b[38;5;28;01mTrue\u001b[39;00m)\n\u001b[1;32m-> 2426\u001b[0m res \u001b[38;5;241m=\u001b[39m masked_where(\u001b[38;5;241m~\u001b[39m(np\u001b[38;5;241m.\u001b[39misfinite(a)), a, copy\u001b[38;5;241m=\u001b[39mcopy)\n\u001b[0;32m   2427\u001b[0m \u001b[38;5;66;03m# masked_invalid previously never returned nomask as a mask and doing so\u001b[39;00m\n\u001b[0;32m   2428\u001b[0m \u001b[38;5;66;03m# threw off matplotlib (gh-22842).  So use shrink=False:\u001b[39;00m\n\u001b[0;32m   2429\u001b[0m \u001b[38;5;28;01mif\u001b[39;00m res\u001b[38;5;241m.\u001b[39m_mask \u001b[38;5;129;01mis\u001b[39;00m nomask:\n",
      "\u001b[1;31mTypeError\u001b[0m: ufunc 'isfinite' not supported for the input types, and the inputs could not be safely coerced to any supported types according to the casting rule ''safe''"
     ]
    },
    {
     "data": {
      "image/png": "[encoded data removed]",
      "text/plain": [
       "<Figure size 1500x800 with 1 Axes>"
      ]
     },
     "metadata": {},
     "output_type": "display_data"
    }
   ],
   "source": [
    "#For 2021-2022 ploting the graph\n",
    "\n",
    "Monuments_name_2021_22 = top_monuments_2021_22[\"Monument_Name\"]\n",
    "Domestic_2021_22 = top_monuments_2021_22[\"Domestic_2021_22\"]\n",
    "Foreign_2021_22 = top_monuments_2021_22[\"Foreign_2021_22\"]\n",
    "\n",
    "x = np.arange(len(Monuments_name_2021_22))\n",
    "\n",
    "plt.figure(figsize=(15, 8))\n",
    "plt.stackplot(x, Domestic_2021_22, Foreign_2021_22, \n",
    "             labels=['Domestic', 'Foreign'], \n",
    "             colors=['skyblue', 'lightcoral'], \n",
    "             alpha=0.8) #stack plot always take x first and them y\n",
    "\n",
    "plt.xlabel(\"Monuments\", fontsize=12, fontweight='bold')\n",
    "plt.ylabel(\"Visitors (in millions)\", fontsize=12, fontweight='bold')\n",
    "plt.title(\"Monument Visitors in 2021-22 (Stacked)\", fontsize=14, fontweight='bold')\n",
    "\n",
    "plt.xticks(x, Monuments_name_2021_22, rotation=45, ha='right', fontsize=10)  # Show actual year instead of 0,1,2,... \n",
    "\n",
    "plt.legend(loc='upper right')\n",
    "plt.grid(True, alpha=0.3)\n",
    "plt.tight_layout()"
   ]
  },
  {
   "cell_type": "code",
   "execution_count": 103,
   "id": "2efb28d0-3f97-43ee-8d02-5e2ef1bd19a5",
   "metadata": {},
   "outputs": [
    {
     "data": {
      "text/html": [
       "<div>\n",
       "<style scoped>\n",
       "    .dataframe tbody tr th:only-of-type {\n",
       "        vertical-align: middle;\n",
       "    }\n",
       "\n",
       "    .dataframe tbody tr th {\n",
       "        vertical-align: top;\n",
       "    }\n",
       "\n",
       "    .dataframe thead th {\n",
       "        text-align: right;\n",
       "    }\n",
       "</style>\n",
       "<table border=\"1\" class=\"dataframe\">\n",
       "  <thead>\n",
       "    <tr style=\"text-align: right;\">\n",
       "      <th></th>\n",
       "      <th>Monument_Name</th>\n",
       "      <th>Domestic_2021_22</th>\n",
       "      <th>Foreign_2021_22</th>\n",
       "      <th>Total_visit_2021_22</th>\n",
       "    </tr>\n",
       "  </thead>\n",
       "  <tbody>\n",
       "    <tr>\n",
       "      <th>0</th>\n",
       "      <td>Taj Mahal</td>\n",
       "      <td>3294611</td>\n",
       "      <td>38922</td>\n",
       "      <td>3.333533</td>\n",
       "    </tr>\n",
       "    <tr>\n",
       "      <th>62</th>\n",
       "      <td>Cooch Bihar Palace</td>\n",
       "      <td>2287176</td>\n",
       "      <td>162</td>\n",
       "      <td>2.287338</td>\n",
       "    </tr>\n",
       "    <tr>\n",
       "      <th>105</th>\n",
       "      <td>Red Fort</td>\n",
       "      <td>1323501</td>\n",
       "      <td>5579</td>\n",
       "      <td>1.329080</td>\n",
       "    </tr>\n",
       "    <tr>\n",
       "      <th>107</th>\n",
       "      <td>Qutub Minar</td>\n",
       "      <td>1157664</td>\n",
       "      <td>8456</td>\n",
       "      <td>1.166120</td>\n",
       "    </tr>\n",
       "    <tr>\n",
       "      <th>26</th>\n",
       "      <td>Group of Monuments Mamallapuram</td>\n",
       "      <td>1142150</td>\n",
       "      <td>7532</td>\n",
       "      <td>1.149682</td>\n",
       "    </tr>\n",
       "    <tr>\n",
       "      <th>1</th>\n",
       "      <td>Agra Fort</td>\n",
       "      <td>1027462</td>\n",
       "      <td>13598</td>\n",
       "      <td>1.041060</td>\n",
       "    </tr>\n",
       "    <tr>\n",
       "      <th>120</th>\n",
       "      <td>Golconda</td>\n",
       "      <td>946972</td>\n",
       "      <td>1511</td>\n",
       "      <td>0.948483</td>\n",
       "    </tr>\n",
       "    <tr>\n",
       "      <th>73</th>\n",
       "      <td>Sun Temple, Konark</td>\n",
       "      <td>672891</td>\n",
       "      <td>314</td>\n",
       "      <td>0.673205</td>\n",
       "    </tr>\n",
       "    <tr>\n",
       "      <th>125</th>\n",
       "      <td>Chittaurgarh Fort</td>\n",
       "      <td>590389</td>\n",
       "      <td>288</td>\n",
       "      <td>0.590677</td>\n",
       "    </tr>\n",
       "    <tr>\n",
       "      <th>86</th>\n",
       "      <td>Shaniwarwada</td>\n",
       "      <td>516448</td>\n",
       "      <td>478</td>\n",
       "      <td>0.516926</td>\n",
       "    </tr>\n",
       "    <tr>\n",
       "      <th>112</th>\n",
       "      <td>Purana Qila</td>\n",
       "      <td>466334</td>\n",
       "      <td>848</td>\n",
       "      <td>0.467182</td>\n",
       "    </tr>\n",
       "    <tr>\n",
       "      <th>127</th>\n",
       "      <td>Marble Pavillion and balustrade on the Ana Sag...</td>\n",
       "      <td>456924</td>\n",
       "      <td>23</td>\n",
       "      <td>0.456947</td>\n",
       "    </tr>\n",
       "    <tr>\n",
       "      <th>53</th>\n",
       "      <td>Gol Gumbaz,\\nVijayapura</td>\n",
       "      <td>447627</td>\n",
       "      <td>263</td>\n",
       "      <td>0.447890</td>\n",
       "    </tr>\n",
       "    <tr>\n",
       "      <th>119</th>\n",
       "      <td>Charminar</td>\n",
       "      <td>440549</td>\n",
       "      <td>648</td>\n",
       "      <td>0.441197</td>\n",
       "    </tr>\n",
       "    <tr>\n",
       "      <th>56</th>\n",
       "      <td>Group of Monuments,\\nHampi</td>\n",
       "      <td>425950</td>\n",
       "      <td>1244</td>\n",
       "      <td>0.427194</td>\n",
       "    </tr>\n",
       "  </tbody>\n",
       "</table>\n",
       "</div>"
      ],
      "text/plain": [
       "                                         Monument_Name Domestic_2021_22  \\\n",
       "0                                            Taj Mahal          3294611   \n",
       "62                                  Cooch Bihar Palace          2287176   \n",
       "105                                           Red Fort          1323501   \n",
       "107                                        Qutub Minar          1157664   \n",
       "26                     Group of Monuments Mamallapuram          1142150   \n",
       "1                                            Agra Fort          1027462   \n",
       "120                                           Golconda           946972   \n",
       "73                                  Sun Temple, Konark           672891   \n",
       "125                                  Chittaurgarh Fort           590389   \n",
       "86                                        Shaniwarwada           516448   \n",
       "112                                        Purana Qila           466334   \n",
       "127  Marble Pavillion and balustrade on the Ana Sag...           456924   \n",
       "53                             Gol Gumbaz,\\nVijayapura           447627   \n",
       "119                                          Charminar           440549   \n",
       "56                          Group of Monuments,\\nHampi           425950   \n",
       "\n",
       "    Foreign_2021_22  Total_visit_2021_22  \n",
       "0             38922             3.333533  \n",
       "62              162             2.287338  \n",
       "105            5579             1.329080  \n",
       "107            8456             1.166120  \n",
       "26             7532             1.149682  \n",
       "1             13598             1.041060  \n",
       "120            1511             0.948483  \n",
       "73              314             0.673205  \n",
       "125             288             0.590677  \n",
       "86              478             0.516926  \n",
       "112             848             0.467182  \n",
       "127              23             0.456947  \n",
       "53              263             0.447890  \n",
       "119             648             0.441197  \n",
       "56             1244             0.427194  "
      ]
     },
     "execution_count": 103,
     "metadata": {},
     "output_type": "execute_result"
    }
   ],
   "source": [
    "top_monuments_2021_22"
   ]
  }
 ],
 "metadata": {
  "kernelspec": {
   "display_name": "Python 3 (ipykernel)",
   "language": "python",
   "name": "python3"
  },
  "language_info": {
   "codemirror_mode": {
    "name": "ipython",
    "version": 3
   },
   "file_extension": ".py",
   "mimetype": "text/x-python",
   "name": "python",
   "nbconvert_exporter": "python",
   "pygments_lexer": "ipython3",
   "version": "3.13.2"
  }
 },
 "nbformat": 4,
 "nbformat_minor": 5
}
