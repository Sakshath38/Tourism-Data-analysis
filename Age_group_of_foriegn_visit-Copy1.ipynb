{
 "cells": [
  {
   "cell_type": "code",
   "execution_count": null,
   "id": "eb55ff02-9f27-4efc-be59-4cf3c7c52f4f",
   "metadata": {},
   "outputs": [],
   "source": [
    "#under this we will analye the age group of tourist incoming table 11"
   ]
  },
  {
   "cell_type": "code",
   "execution_count": 1,
   "id": "0aa29eb2-edf8-4592-9c64-e16e0b1d050a",
   "metadata": {},
   "outputs": [],
   "source": [
    "import pandas as pd \n",
    "import matplotlib.pyplot as plt\n",
    "import seaborn as sns\n",
    "import numpy as np"
   ]
  },
  {
   "cell_type": "code",
   "execution_count": 2,
   "id": "5ae28375-7052-4e6c-a5f4-e95465622504",
   "metadata": {},
   "outputs": [],
   "source": [
    "df = pd.read_excel(\"Data from 2019-2022 excel files (copy)/Tourism-Statistics-for-year-2022.xlsx\" ,sheet_name = \"Table 29\", skiprows = 3)"
   ]
  },
  {
   "cell_type": "code",
   "execution_count": 3,
   "id": "53e65727-b5e6-4ced-bd38-ee71e685c577",
   "metadata": {},
   "outputs": [],
   "source": [
    "#converting the right columns\n",
    "\n",
    "df.columns = [\"NaN\",\"States/UTs\",\"Domestic_2021\",\"Foreign_2021\",\"Domestic_2022\",\"Foreign_2022\",\"NaN\",\"NaN\",\"DTV_22\",\"FTV_22\"]"
   ]
  },
  {
   "cell_type": "code",
   "execution_count": null,
   "id": "e348428a-8834-48ec-8f90-f2fd5c48ced9",
   "metadata": {},
   "outputs": [],
   "source": []
  }
 ],
 "metadata": {
  "kernelspec": {
   "display_name": "Python 3 (ipykernel)",
   "language": "python",
   "name": "python3"
  },
  "language_info": {
   "codemirror_mode": {
    "name": "ipython",
    "version": 3
   },
   "file_extension": ".py",
   "mimetype": "text/x-python",
   "name": "python",
   "nbconvert_exporter": "python",
   "pygments_lexer": "ipython3",
   "version": "3.13.2"
  }
 },
 "nbformat": 4,
 "nbformat_minor": 5
}
