{
 "cells": [
  {
   "cell_type": "code",
   "execution_count": null,
   "id": "ce638971-2e08-4c0d-8900-1e26f06923a1",
   "metadata": {},
   "outputs": [],
   "source": [
    "#Tourism contribution in India till 2022 (Table 19)"
   ]
  }
 ],
 "metadata": {
  "kernelspec": {
   "display_name": "Python 3 (ipykernel)",
   "language": "python",
   "name": "python3"
  },
  "language_info": {
   "codemirror_mode": {
    "name": "ipython",
    "version": 3
   },
   "file_extension": ".py",
   "mimetype": "text/x-python",
   "name": "python",
   "nbconvert_exporter": "python",
   "pygments_lexer": "ipython3",
   "version": "3.13.2"
  }
 },
 "nbformat": 4,
 "nbformat_minor": 5
}
